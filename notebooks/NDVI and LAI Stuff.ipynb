{
 "cells": [
  {
   "cell_type": "code",
   "execution_count": 2,
   "metadata": {
    "collapsed": false
   },
   "outputs": [
    {
     "data": {
      "text/plain": [
       "2.1083333333333329"
      ]
     },
     "execution_count": 2,
     "metadata": {},
     "output_type": "execute_result"
    }
   ],
   "source": [
    "import numpy\n",
    "# July 28 2014 \n",
    "# 17:22:24\n",
    "setOneLAI = [2.64, 1.87, 2.11, 0.74, 2.25, 3.04]\n",
    "numpy.mean(setOneLAI)"
   ]
  },
  {
   "cell_type": "code",
   "execution_count": 6,
   "metadata": {
    "collapsed": false
   },
   "outputs": [
    {
     "data": {
      "text/plain": [
       "2.2266666666666666"
      ]
     },
     "execution_count": 6,
     "metadata": {},
     "output_type": "execute_result"
    }
   ],
   "source": [
    "# 17:24:00\n",
    "setTwoLAI = [2.37, 2.16, 1.22, 1.63, 2.90, 3.08]\n",
    "numpy.mean(setTwoLAI)\n"
   ]
  },
  {
   "cell_type": "code",
   "execution_count": 7,
   "metadata": {
    "collapsed": false
   },
   "outputs": [
    {
     "data": {
      "text/plain": [
       "1.1716666666666666"
      ]
     },
     "execution_count": 7,
     "metadata": {},
     "output_type": "execute_result"
    }
   ],
   "source": [
    "# 17:25:17\n",
    "setThreeLAI = [1.75, 1.75, 0.52, 0.11, 1.46, 1.44]\n",
    "numpy.mean(setThreeLAI)\n"
   ]
  },
  {
   "cell_type": "code",
   "execution_count": 8,
   "metadata": {
    "collapsed": false
   },
   "outputs": [
    {
     "data": {
      "text/plain": [
       "2.1350000000000002"
      ]
     },
     "execution_count": 8,
     "metadata": {},
     "output_type": "execute_result"
    }
   ],
   "source": [
    "# 17:26:49\n",
    "setFourLAI = [3.24, 2.12, 1.75, 1.95, 2.14, 1.61]\n",
    "numpy.mean(setFourLAI)"
   ]
  },
  {
   "cell_type": "code",
   "execution_count": 10,
   "metadata": {
    "collapsed": false
   },
   "outputs": [
    {
     "data": {
      "text/plain": [
       "2.2083333333333335"
      ]
     },
     "execution_count": 10,
     "metadata": {},
     "output_type": "execute_result"
    }
   ],
   "source": [
    "# 17:27:53\n",
    "setFiveLAI = [2.86, 2.20, 1.26, 1.59, 2.83, 2.51]\n",
    "numpy.mean(setFiveLAI)"
   ]
  },
  {
   "cell_type": "code",
   "execution_count": 11,
   "metadata": {
    "collapsed": false
   },
   "outputs": [
    {
     "data": {
      "text/plain": [
       "1.97"
      ]
     },
     "execution_count": 11,
     "metadata": {},
     "output_type": "execute_result"
    }
   ],
   "source": [
    "# 17:28:04\n",
    "setSixLAI = [2.44, 2.10, 0.85, 1.40, 2.49, 2.54]\n",
    "numpy.mean(setSixLAI)"
   ]
  },
  {
   "cell_type": "code",
   "execution_count": 12,
   "metadata": {
    "collapsed": false
   },
   "outputs": [
    {
     "data": {
      "text/plain": [
       "2.4833333333333338"
      ]
     },
     "execution_count": 12,
     "metadata": {},
     "output_type": "execute_result"
    }
   ],
   "source": [
    "# August 14 2014\n",
    "# 17:27:51\n",
    "setSevLAI = [1.69, 2.03, 2.79, 2.98, 2.95, 2.46]\n",
    "numpy.mean(setSevLAI)"
   ]
  },
  {
   "cell_type": "code",
   "execution_count": 13,
   "metadata": {
    "collapsed": false
   },
   "outputs": [
    {
     "data": {
      "text/plain": [
       "1.7083333333333333"
      ]
     },
     "execution_count": 13,
     "metadata": {},
     "output_type": "execute_result"
    }
   ],
   "source": [
    "# 17:35:23\n",
    "setEightLAI = [0.95, 1.01, 1.44, 1.90, 2.47, 2.48]\n",
    "numpy.mean(setEightLAI)\n"
   ]
  },
  {
   "cell_type": "code",
   "execution_count": 14,
   "metadata": {
    "collapsed": false
   },
   "outputs": [
    {
     "data": {
      "text/plain": [
       "2.1599999999999997"
      ]
     },
     "execution_count": 14,
     "metadata": {},
     "output_type": "execute_result"
    }
   ],
   "source": [
    "# 17:38:38\n",
    "setNineLAI = [1.80, 1.29, 1.75, 2.89, 2.79, 2.44]\n",
    "numpy.mean(setNineLAI)\n"
   ]
  },
  {
   "cell_type": "code",
   "execution_count": 15,
   "metadata": {
    "collapsed": false
   },
   "outputs": [
    {
     "data": {
      "text/plain": [
       "2.2149999999999999"
      ]
     },
     "execution_count": 15,
     "metadata": {},
     "output_type": "execute_result"
    }
   ],
   "source": [
    "# 17:40:41\n",
    "setTenLAI = [1.12, 2.05, 2.55, 2.70, 2.32, 2.55]\n",
    "numpy.mean(setTenLAI)"
   ]
  },
  {
   "cell_type": "code",
   "execution_count": 16,
   "metadata": {
    "collapsed": false
   },
   "outputs": [
    {
     "data": {
      "text/plain": [
       "1.845"
      ]
     },
     "execution_count": 16,
     "metadata": {},
     "output_type": "execute_result"
    }
   ],
   "source": [
    "# 17:42:32\n",
    "setElevLAI = [2.09, 0.63, 1.43, 2.13, 2.34, 2.45]\n",
    "numpy.mean(setElevLAI)"
   ]
  },
  {
   "cell_type": "code",
   "execution_count": 17,
   "metadata": {
    "collapsed": false
   },
   "outputs": [
    {
     "data": {
      "text/plain": [
       "2.0216666666666665"
      ]
     },
     "execution_count": 17,
     "metadata": {},
     "output_type": "execute_result"
    }
   ],
   "source": [
    "# 17:43:24\n",
    "setTwelLAI = [1.32, 1.26, 2.08, 2.60, 2.75, 2.12]\n",
    "numpy.mean(setTwelLAI)"
   ]
  },
  {
   "cell_type": "code",
   "execution_count": 18,
   "metadata": {
    "collapsed": false
   },
   "outputs": [
    {
     "data": {
      "text/plain": [
       "2.4833333333333329"
      ]
     },
     "execution_count": 18,
     "metadata": {},
     "output_type": "execute_result"
    }
   ],
   "source": [
    "# Sept 3, 2014\n",
    "# 17:01:08\n",
    "setThirLAI = [2.69, 2.30, 2.46, 2.32, 2.53, 2.60]\n",
    "numpy.mean(setThirLAI)\n"
   ]
  },
  {
   "cell_type": "code",
   "execution_count": 19,
   "metadata": {
    "collapsed": false
   },
   "outputs": [
    {
     "data": {
      "text/plain": [
       "2.1400000000000001"
      ]
     },
     "execution_count": 19,
     "metadata": {},
     "output_type": "execute_result"
    }
   ],
   "source": [
    "# 17:02:15\n",
    "setFourtLAI = [2.36, 2.00, 1.92, 2.16, 2.35, 2.05]\n",
    "numpy.mean(setFourtLAI)"
   ]
  },
  {
   "cell_type": "code",
   "execution_count": 20,
   "metadata": {
    "collapsed": false
   },
   "outputs": [
    {
     "data": {
      "text/plain": [
       "2.1600000000000001"
      ]
     },
     "execution_count": 20,
     "metadata": {},
     "output_type": "execute_result"
    }
   ],
   "source": [
    "# 17:04:23\n",
    "setFiftLAI = [2.28, 1.97, 1.99, 2.00, 2.42, 2.30]\n",
    "numpy.mean(setFiftLAI)"
   ]
  },
  {
   "cell_type": "code",
   "execution_count": 21,
   "metadata": {
    "collapsed": false
   },
   "outputs": [
    {
     "data": {
      "text/plain": [
       "2.2216666666666671"
      ]
     },
     "execution_count": 21,
     "metadata": {},
     "output_type": "execute_result"
    }
   ],
   "source": [
    "# 17:06:12\n",
    "setSixtLAI = [2.23, 2.26, 2.06, 2.12, 2.31, 2.35]\n",
    "numpy.mean(setSixtLAI)"
   ]
  },
  {
   "cell_type": "code",
   "execution_count": 22,
   "metadata": {
    "collapsed": false
   },
   "outputs": [
    {
     "data": {
      "text/plain": [
       "1.9350000000000003"
      ]
     },
     "execution_count": 22,
     "metadata": {},
     "output_type": "execute_result"
    }
   ],
   "source": [
    "# 17:07:30\n",
    "setSevtLAI = [2.28, 2.03, 1.17, 2.24, 2.33, 1.56]\n",
    "numpy.mean(setSevtLAI)"
   ]
  },
  {
   "cell_type": "code",
   "execution_count": 24,
   "metadata": {
    "collapsed": false
   },
   "outputs": [
    {
     "data": {
      "text/plain": [
       "2.1083333333333329"
      ]
     },
     "execution_count": 24,
     "metadata": {},
     "output_type": "execute_result"
    }
   ],
   "source": [
    "# 17:07:43\n",
    "setEighttLAI = [2.34, 2.01, 1.51, 2.27, 2.31, 2.21]\n",
    "numpy.mean(setEighttLAI)"
   ]
  },
  {
   "cell_type": "code",
   "execution_count": 25,
   "metadata": {
    "collapsed": false
   },
   "outputs": [
    {
     "data": {
      "text/plain": [
       "0.44500000000000001"
      ]
     },
     "execution_count": 25,
     "metadata": {},
     "output_type": "execute_result"
    }
   ],
   "source": [
    "# Sept 19, 2014\n",
    "# 17:35:25\n",
    "setNintLAI = [0.48, 0.43, 0.43, 0.47, 0.36, 0.50]\n",
    "numpy.mean(setNintLAI)"
   ]
  },
  {
   "cell_type": "code",
   "execution_count": 3,
   "metadata": {
    "collapsed": false
   },
   "outputs": [
    {
     "data": {
      "text/plain": [
       "0.45500000000000002"
      ]
     },
     "execution_count": 3,
     "metadata": {},
     "output_type": "execute_result"
    }
   ],
   "source": [
    "# 17:41:58\n",
    "setTwentLAI = [0.48, 0.48, 0.38, 0.47, 0.47, 0.45]\n",
    "numpy.mean(setTwentLAI)"
   ]
  },
  {
   "cell_type": "code",
   "execution_count": 4,
   "metadata": {
    "collapsed": false
   },
   "outputs": [
    {
     "data": {
      "text/plain": [
       "0.27666666666666667"
      ]
     },
     "execution_count": 4,
     "metadata": {},
     "output_type": "execute_result"
    }
   ],
   "source": [
    "# 17:43:24\n",
    "setTwtOneLAI = [0.27, 0.27, 0.25, 0.28, 0.30, 0.29]\n",
    "numpy.mean(setTwtOneLAI)"
   ]
  },
  {
   "cell_type": "code",
   "execution_count": 5,
   "metadata": {
    "collapsed": false
   },
   "outputs": [
    {
     "data": {
      "text/plain": [
       "0.19333333333333336"
      ]
     },
     "execution_count": 5,
     "metadata": {},
     "output_type": "execute_result"
    }
   ],
   "source": [
    "# 17:46:12\n",
    "setTwtTwoLAI = [0.21, 0.22, 0.20, 0.14, 0.17, 0.22]\n",
    "numpy.mean(setTwtTwoLAI)"
   ]
  },
  {
   "cell_type": "code",
   "execution_count": 6,
   "metadata": {
    "collapsed": false
   },
   "outputs": [
    {
     "data": {
      "text/plain": [
       "0.19333333333333336"
      ]
     },
     "execution_count": 6,
     "metadata": {},
     "output_type": "execute_result"
    }
   ],
   "source": [
    "# 17:47:24\n",
    "setTwtThreeLAI = [0.16, 0.12, 0.12, 0.17, 0.17, 0.17]\n",
    "numpy.mean(setTwtTwoLAI)"
   ]
  },
  {
   "cell_type": "code",
   "execution_count": 7,
   "metadata": {
    "collapsed": false
   },
   "outputs": [
    {
     "data": {
      "text/plain": [
       "0.0083333333333333332"
      ]
     },
     "execution_count": 7,
     "metadata": {},
     "output_type": "execute_result"
    }
   ],
   "source": [
    "# Oct 8, 2014\n",
    "# 17:35:19\n",
    "setTwtFourLAI = [0.00, 0.00, 0.00, 0.00, 0.00, 0.05]\n",
    "numpy.mean(setTwtFourLAI)"
   ]
  },
  {
   "cell_type": "code",
   "execution_count": 8,
   "metadata": {
    "collapsed": false
   },
   "outputs": [
    {
     "data": {
      "text/plain": [
       "0.018333333333333337"
      ]
     },
     "execution_count": 8,
     "metadata": {},
     "output_type": "execute_result"
    }
   ],
   "source": [
    "# 17:36:52\n",
    "setTwtFiveLAI = [0.01, 0.02, 0.00, 0.00, 0.04, 0.04]\n",
    "numpy.mean(setTwtFiveLAI)"
   ]
  },
  {
   "cell_type": "code",
   "execution_count": 9,
   "metadata": {
    "collapsed": false
   },
   "outputs": [
    {
     "data": {
      "text/plain": [
       "0.053333333333333344"
      ]
     },
     "execution_count": 9,
     "metadata": {},
     "output_type": "execute_result"
    }
   ],
   "source": [
    "# 17:38:35\n",
    "setTwtSixLAI = [0.07, 0.10, 0.01, 0.00, 0.01, 0.13]\n",
    "numpy.mean(setTwtSixLAI)"
   ]
  },
  {
   "cell_type": "code",
   "execution_count": 10,
   "metadata": {
    "collapsed": false
   },
   "outputs": [
    {
     "data": {
      "text/plain": [
       "0.095000000000000015"
      ]
     },
     "execution_count": 10,
     "metadata": {},
     "output_type": "execute_result"
    }
   ],
   "source": [
    "# 17:40:43\n",
    "setTwtSevLAI = [0.22, 0.03, 0.03, 0.03, 0.06, 0.20]\n",
    "numpy.mean(setTwtSevLAI)"
   ]
  },
  {
   "cell_type": "code",
   "execution_count": 11,
   "metadata": {
    "collapsed": false
   },
   "outputs": [
    {
     "data": {
      "text/plain": [
       "0.031666666666666669"
      ]
     },
     "execution_count": 11,
     "metadata": {},
     "output_type": "execute_result"
    }
   ],
   "source": [
    "# 17:41:46\n",
    "setTwtEigLAI = [0.06, 0.00, 0.00, 0.00, 0.04, 0.09]\n",
    "numpy.mean(setTwtEigLAI)"
   ]
  },
  {
   "cell_type": "code",
   "execution_count": 12,
   "metadata": {
    "collapsed": false
   },
   "outputs": [
    {
     "data": {
      "text/plain": [
       "0.043333333333333335"
      ]
     },
     "execution_count": 12,
     "metadata": {},
     "output_type": "execute_result"
    }
   ],
   "source": [
    "# 17:41:57\n",
    "setTwtNinLAI = [0.10, 0.02, 0.02, 0.01, 0.03, 0.08]\n",
    "numpy.mean(setTwtNinLAI)"
   ]
  },
  {
   "cell_type": "code",
   "execution_count": null,
   "metadata": {
    "collapsed": true
   },
   "outputs": [],
   "source": []
  }
 ],
 "metadata": {
  "kernelspec": {
   "display_name": "Python 2",
   "language": "python",
   "name": "python2"
  },
  "language_info": {
   "codemirror_mode": {
    "name": "ipython",
    "version": 2
   },
   "file_extension": ".py",
   "mimetype": "text/x-python",
   "name": "python",
   "nbconvert_exporter": "python",
   "pygments_lexer": "ipython2",
   "version": "2.7.10"
  }
 },
 "nbformat": 4,
 "nbformat_minor": 0
}
